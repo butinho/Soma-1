{
 "cells": [
  {
   "cell_type": "markdown",
   "id": "8e88c660",
   "metadata": {},
   "source": [
    "# Calculando a soma dos 10 primeiros números naturais"
   ]
  },
  {
   "cell_type": "code",
   "execution_count": 2,
   "id": "113231c5",
   "metadata": {},
   "outputs": [],
   "source": [
    "soma = 0\n",
    "for i in list(range(1, 11, 1)):\n",
    "    soma = soma + i"
   ]
  },
  {
   "cell_type": "code",
   "execution_count": 4,
   "id": "174de729",
   "metadata": {},
   "outputs": [
    {
     "name": "stdout",
     "output_type": "stream",
     "text": [
      "A soma vale: 55\n"
     ]
    }
   ],
   "source": [
    "print(\"A soma vale: %i\" %soma)"
   ]
  }
 ],
 "metadata": {
  "kernelspec": {
   "display_name": "Python 3 (ipykernel)",
   "language": "python",
   "name": "python3"
  },
  "language_info": {
   "codemirror_mode": {
    "name": "ipython",
    "version": 3
   },
   "file_extension": ".py",
   "mimetype": "text/x-python",
   "name": "python",
   "nbconvert_exporter": "python",
   "pygments_lexer": "ipython3",
   "version": "3.9.7"
  }
 },
 "nbformat": 4,
 "nbformat_minor": 5
}
